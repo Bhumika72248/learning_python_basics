{
 "cells": [
  {
   "cell_type": "markdown",
   "id": "83e0716e-f2ae-4705-ab0a-5027efac6054",
   "metadata": {},
   "source": [
    "## Variable & operators\n"
   ]
  },
  {
   "cell_type": "code",
   "execution_count": 1,
   "id": "4f61d14e-5bd0-4b60-b508-33eb7f7af630",
   "metadata": {},
   "outputs": [
    {
     "name": "stdout",
     "output_type": "stream",
     "text": [
      "10\n"
     ]
    }
   ],
   "source": [
    "a=10\n",
    "print(a)\n"
   ]
  },
  {
   "cell_type": "code",
   "execution_count": 2,
   "id": "d9f30c54-f8bd-4921-9f24-2891315b4e30",
   "metadata": {},
   "outputs": [
    {
     "name": "stdout",
     "output_type": "stream",
     "text": [
      "2 (2, 3)\n"
     ]
    }
   ],
   "source": [
    "b=2\n",
    "c=2,3\n",
    "print(b,c)"
   ]
  },
  {
   "cell_type": "code",
   "execution_count": 5,
   "id": "d0b7d3e5-1499-4af1-ad8c-06ab9f6774a8",
   "metadata": {},
   "outputs": [
    {
     "name": "stdout",
     "output_type": "stream",
     "text": [
      "apple\n"
     ]
    }
   ],
   "source": [
    "x=\"apple\"\n",
    "print(x)"
   ]
  },
  {
   "cell_type": "code",
   "execution_count": 6,
   "id": "8b901332-d1d6-462a-bf8b-e24092af867f",
   "metadata": {},
   "outputs": [
    {
     "name": "stdout",
     "output_type": "stream",
     "text": [
      "23\n"
     ]
    }
   ],
   "source": [
    "student=23\n",
    "print(student)"
   ]
  },
  {
   "cell_type": "code",
   "execution_count": 1,
   "id": "4ead7d43-a68c-4c14-924d-11d9032a799d",
   "metadata": {},
   "outputs": [
    {
     "ename": "SyntaxError",
     "evalue": "invalid syntax (1551044377.py, line 1)",
     "output_type": "error",
     "traceback": [
      "  \u001b[36mCell\u001b[39m\u001b[36m \u001b[39m\u001b[32mIn[1]\u001b[39m\u001b[32m, line 1\u001b[39m\n\u001b[31m    \u001b[39m\u001b[31m1@& = 2\u001b[39m\n      ^\n\u001b[31mSyntaxError\u001b[39m\u001b[31m:\u001b[39m invalid syntax\n"
     ]
    }
   ],
   "source": [
    "1@& = 2\n",
    "print(1@&)"
   ]
  },
  {
   "cell_type": "code",
   "execution_count": 2,
   "id": "c44d6cdb-8739-415e-b6e3-b0e4dd075437",
   "metadata": {},
   "outputs": [
    {
     "name": "stdout",
     "output_type": "stream",
     "text": [
      "25\n"
     ]
    }
   ],
   "source": [
    "student123 = 25\n",
    "print(student123)"
   ]
  },
  {
   "cell_type": "code",
   "execution_count": 4,
   "id": "dccf46a0-df4f-4d20-ae4c-9b22af25c9b5",
   "metadata": {},
   "outputs": [
    {
     "name": "stdout",
     "output_type": "stream",
     "text": [
      "4\n"
     ]
    }
   ],
   "source": [
    "_a=4\n",
    "print(_a)"
   ]
  },
  {
   "cell_type": "markdown",
   "id": "0f1957ea-bdbb-4d5a-89ae-143c0b6e0c20",
   "metadata": {},
   "source": [
    "##  Many values to multiple variables"
   ]
  },
  {
   "cell_type": "code",
   "execution_count": 5,
   "id": "94b91211-db9a-4efc-8269-69f76e42e5a2",
   "metadata": {},
   "outputs": [
    {
     "name": "stdout",
     "output_type": "stream",
     "text": [
      "orange banana cherry\n"
     ]
    }
   ],
   "source": [
    "x,y,z = \"orange\", \"banana\", \"cherry\"\n",
    "print(x,y,z)"
   ]
  },
  {
   "cell_type": "code",
   "execution_count": 6,
   "id": "26ca19d9-89a5-4517-bffe-960d162e7e7e",
   "metadata": {},
   "outputs": [
    {
     "name": "stdout",
     "output_type": "stream",
     "text": [
      "orange orange orange\n"
     ]
    }
   ],
   "source": [
    "x=y=z=\"orange\"\n",
    "print(x,y,z)"
   ]
  },
  {
   "cell_type": "markdown",
   "id": "d11bc5cc-561a-467d-b0e8-bc5ae8058b80",
   "metadata": {},
   "source": [
    "## Python output variables\n"
   ]
  },
  {
   "cell_type": "code",
   "execution_count": 8,
   "id": "010fb277-e136-434d-b086-6d3b3a3a3fd9",
   "metadata": {},
   "outputs": [
    {
     "name": "stdout",
     "output_type": "stream",
     "text": [
      "python is amazing\n",
      "\n",
      "python\n",
      "amazing\n"
     ]
    }
   ],
   "source": [
    "x = \"python\"\n",
    "y=\"is\"\n",
    "z=\"amazing\"\n",
    "print(x,y,z)\n",
    "print()\n",
    "print(x)\n",
    "print(z)"
   ]
  },
  {
   "cell_type": "markdown",
   "id": "4ad60689-2223-4e5e-a129-d5852cc18df0",
   "metadata": {},
   "source": [
    "## Data types"
   ]
  },
  {
   "cell_type": "code",
   "execution_count": 9,
   "id": "eb6ab94b-6be6-48ee-9e97-99b2dcc635cf",
   "metadata": {},
   "outputs": [
    {
     "name": "stdout",
     "output_type": "stream",
     "text": [
      "2\n",
      "<class 'int'>\n"
     ]
    }
   ],
   "source": [
    "x=2\n",
    "print(x)\n",
    "print(type(x))"
   ]
  },
  {
   "cell_type": "code",
   "execution_count": 10,
   "id": "9c239c53-df16-4385-be2b-8e8448a66b4d",
   "metadata": {},
   "outputs": [
    {
     "name": "stdout",
     "output_type": "stream",
     "text": [
      "4.5\n",
      "<class 'float'>\n"
     ]
    }
   ],
   "source": [
    "y=4.5\n",
    "print(y)\n",
    "print(type(y))\n"
   ]
  },
  {
   "cell_type": "code",
   "execution_count": 11,
   "id": "2c655d00-1653-4239-a17c-4007a53ba30f",
   "metadata": {},
   "outputs": [
    {
     "name": "stdout",
     "output_type": "stream",
     "text": [
      "(2+5j)\n",
      "<class 'complex'>\n"
     ]
    }
   ],
   "source": [
    "z=2+5j\n",
    "print(z)\n",
    "print(type(z))"
   ]
  },
  {
   "cell_type": "code",
   "execution_count": 14,
   "id": "51a17278-492f-4ffd-beb3-4398681331e4",
   "metadata": {},
   "outputs": [
    {
     "name": "stdout",
     "output_type": "stream",
     "text": [
      "This is the day two of python class\n",
      "<class 'str'>\n"
     ]
    }
   ],
   "source": [
    "a=\"This is the day two of python class\"\n",
    "print(a)\n",
    "print(type(a))"
   ]
  },
  {
   "cell_type": "markdown",
   "id": "e508a8c5-5142-4b11-b643-d167339beede",
   "metadata": {},
   "source": [
    "b=[1,2,3,4,5,6,7,8,9,19]\n",
    "print(b)\n",
    "print(type(b))\n"
   ]
  },
  {
   "cell_type": "code",
   "execution_count": 16,
   "id": "1901b855-ddc0-4864-ab63-48dfb87640c6",
   "metadata": {},
   "outputs": [
    {
     "name": "stdout",
     "output_type": "stream",
     "text": [
      "(1, 2, 3, 4, 5, 6, 7, 8, 9, 19)\n",
      "<class 'tuple'>\n"
     ]
    }
   ],
   "source": [
    "c=(1,2,3,4,5,6,7,8,9,19)\n",
    "print(c)\n",
    "print(type(c))\n"
   ]
  },
  {
   "cell_type": "code",
   "execution_count": 17,
   "id": "f345c963-11bf-4e35-ae62-73d3f715ac20",
   "metadata": {},
   "outputs": [
    {
     "name": "stdout",
     "output_type": "stream",
     "text": [
      "Variable     Type       Data/Info\n",
      "---------------------------------\n",
      "a            str        This is the day two of python class\n",
      "b            list       n=10\n",
      "c            tuple      n=10\n",
      "student123   int        25\n",
      "x            int        2\n",
      "y            float      4.5\n",
      "z            complex    (2+5j)\n"
     ]
    }
   ],
   "source": [
    "%whos"
   ]
  },
  {
   "cell_type": "markdown",
   "id": "5c4362be-30cb-4c96-adea-0e4e4d066122",
   "metadata": {},
   "source": [
    "## Operators"
   ]
  },
  {
   "cell_type": "code",
   "execution_count": 18,
   "id": "1ded36c3-d9ad-4c7c-bb15-22f73f1f4a62",
   "metadata": {},
   "outputs": [
    {
     "name": "stdout",
     "output_type": "stream",
     "text": [
      "8\n"
     ]
    }
   ],
   "source": [
    "a=5\n",
    "b=3\n",
    "print(a+b)"
   ]
  },
  {
   "cell_type": "code",
   "execution_count": 20,
   "id": "f2b0e2c0-0173-463d-ac88-3bf614828a2a",
   "metadata": {},
   "outputs": [
    {
     "name": "stdout",
     "output_type": "stream",
     "text": [
      "7.3\n"
     ]
    }
   ],
   "source": [
    "a=5\n",
    "b=2.3\n",
    "print(a+b)"
   ]
  },
  {
   "cell_type": "code",
   "execution_count": 21,
   "id": "ccd6f49d-3cb8-41e3-924e-af098761a86a",
   "metadata": {},
   "outputs": [
    {
     "name": "stdout",
     "output_type": "stream",
     "text": [
      "(9+2j)\n"
     ]
    }
   ],
   "source": [
    "a = 5+2j\n",
    "b=4\n",
    "print(a+b)"
   ]
  },
  {
   "cell_type": "code",
   "execution_count": 1,
   "id": "14a91c3e-93ab-4773-a33e-ee4ae6946fc0",
   "metadata": {},
   "outputs": [
    {
     "name": "stdout",
     "output_type": "stream",
     "text": [
      "hello students\n"
     ]
    }
   ],
   "source": [
    "a=\"hello\"\n",
    "b=\"students\"\n",
    "print(a+\" \"+b)\n"
   ]
  },
  {
   "cell_type": "markdown",
   "id": "9c74aa66-0692-414b-a038-c16145e276ae",
   "metadata": {},
   "source": [
    "## subtraction\n"
   ]
  },
  {
   "cell_type": "code",
   "execution_count": 2,
   "id": "8f91d3e0-82d4-465b-a21a-c80de3c0eefe",
   "metadata": {},
   "outputs": [
    {
     "name": "stdout",
     "output_type": "stream",
     "text": [
      "9\n"
     ]
    }
   ],
   "source": [
    "a=15\n",
    "b=6\n",
    "print(a-b)"
   ]
  },
  {
   "cell_type": "code",
   "execution_count": 3,
   "id": "3cfb508c-6440-45bc-a6b7-c1783d1aaae7",
   "metadata": {},
   "outputs": [
    {
     "name": "stdout",
     "output_type": "stream",
     "text": [
      "230447.97\n"
     ]
    }
   ],
   "source": [
    "a=234324.42\n",
    "b=3876.45\n",
    "print(a-b)"
   ]
  },
  {
   "cell_type": "code",
   "execution_count": 4,
   "id": "85b49611-c6f2-4a98-9029-99a7fc0d538b",
   "metadata": {},
   "outputs": [
    {
     "ename": "TypeError",
     "evalue": "unsupported operand type(s) for -: 'str' and 'str'",
     "output_type": "error",
     "traceback": [
      "\u001b[31m---------------------------------------------------------------------------\u001b[39m",
      "\u001b[31mTypeError\u001b[39m                                 Traceback (most recent call last)",
      "\u001b[36mCell\u001b[39m\u001b[36m \u001b[39m\u001b[32mIn[4]\u001b[39m\u001b[32m, line 3\u001b[39m\n\u001b[32m      1\u001b[39m a=\u001b[33m\"\u001b[39m\u001b[33mhello\u001b[39m\u001b[33m\"\u001b[39m\n\u001b[32m      2\u001b[39m b=\u001b[33m\"\u001b[39m\u001b[33mbhumi\u001b[39m\u001b[33m\"\u001b[39m\n\u001b[32m----> \u001b[39m\u001b[32m3\u001b[39m \u001b[38;5;28mprint\u001b[39m(\u001b[43ma\u001b[49m\u001b[43m-\u001b[49m\u001b[43mb\u001b[49m)\n",
      "\u001b[31mTypeError\u001b[39m: unsupported operand type(s) for -: 'str' and 'str'"
     ]
    }
   ],
   "source": [
    "a=\"hello\"\n",
    "b=\"bhumi\"\n",
    "print(a-b)"
   ]
  },
  {
   "cell_type": "markdown",
   "id": "c30c5ded-b248-4317-940d-62a7f19fb409",
   "metadata": {},
   "source": [
    "## multiplication"
   ]
  },
  {
   "cell_type": "code",
   "execution_count": 5,
   "id": "dd613c2c-cf4d-4c20-a117-0c6953730d12",
   "metadata": {},
   "outputs": [
    {
     "name": "stdout",
     "output_type": "stream",
     "text": [
      "552\n"
     ]
    }
   ],
   "source": [
    "a=12\n",
    "b=46\n",
    "print(a*b)"
   ]
  },
  {
   "cell_type": "code",
   "execution_count": 7,
   "id": "d11ecf06-9719-4d72-b2d9-cc1f02d62008",
   "metadata": {},
   "outputs": [
    {
     "name": "stdout",
     "output_type": "stream",
     "text": [
      "549597.6020000001\n"
     ]
    }
   ],
   "source": [
    "a=2345.3\n",
    "b=234.34\n",
    "print(a*b)"
   ]
  },
  {
   "cell_type": "markdown",
   "id": "2e54252c-fc8c-48d8-aa19-e5ed30cc9cbe",
   "metadata": {},
   "source": [
    "## Division"
   ]
  },
  {
   "cell_type": "code",
   "execution_count": 8,
   "id": "9902375f-a01f-46f1-9073-5fd2fbbf6895",
   "metadata": {},
   "outputs": [
    {
     "name": "stdout",
     "output_type": "stream",
     "text": [
      "2.0\n"
     ]
    }
   ],
   "source": [
    "a=10\n",
    "b=5\n",
    "print(a/b)"
   ]
  },
  {
   "cell_type": "markdown",
   "id": "ca920bb6-6c3a-4eb7-9161-3a0f6b2257d6",
   "metadata": {},
   "source": [
    "## modulus operator"
   ]
  },
  {
   "cell_type": "code",
   "execution_count": 10,
   "id": "c8b89d30-b470-404a-bfbb-9cde40e6828b",
   "metadata": {},
   "outputs": [
    {
     "name": "stdout",
     "output_type": "stream",
     "text": [
      "1\n"
     ]
    }
   ],
   "source": [
    "a=19\n",
    "b=3\n",
    "print(a%b)"
   ]
  },
  {
   "cell_type": "markdown",
   "id": "1a587f15-5538-46dd-8963-44283480f90f",
   "metadata": {},
   "source": [
    "## exponent"
   ]
  },
  {
   "cell_type": "code",
   "execution_count": 12,
   "id": "ed33c9a3-d10f-45e5-8ae8-411648142d64",
   "metadata": {},
   "outputs": [
    {
     "name": "stdout",
     "output_type": "stream",
     "text": [
      "39543586515724059517528904707289262840288424368687300198328463050855941148375405379802941177838919721854992329721321457967932542410188215677655870218238128181282417672424281195188781685095884822453345610179905899720265130206566134846899805423654207898243788067286898656036527198614996308633099169458814976\n"
     ]
    }
   ],
   "source": [
    "a=345246\n",
    "b=55\n",
    "print(a**b)\n"
   ]
  },
  {
   "cell_type": "code",
   "execution_count": 13,
   "id": "45c57290-4d96-4fe7-80fe-389f8b965706",
   "metadata": {},
   "outputs": [
    {
     "name": "stdout",
     "output_type": "stream",
     "text": [
      "24784657.098244574\n"
     ]
    }
   ],
   "source": [
    "a=((55566*446)+(45254.435/3455)+(46654-44446))\n",
    "print(a)"
   ]
  },
  {
   "cell_type": "code",
   "execution_count": 15,
   "id": "41ed5085-40da-4c01-ba12-7e3ad9317aee",
   "metadata": {},
   "outputs": [
    {
     "name": "stdout",
     "output_type": "stream",
     "text": [
      "False\n"
     ]
    }
   ],
   "source": [
    "a=True\n",
    "b=False\n",
    "print(a and b)"
   ]
  },
  {
   "cell_type": "code",
   "execution_count": 16,
   "id": "97ecf127-9e3e-42b8-a43e-cb2ec65e928f",
   "metadata": {},
   "outputs": [
    {
     "name": "stdout",
     "output_type": "stream",
     "text": [
      "True\n"
     ]
    }
   ],
   "source": [
    "a=True\n",
    "b=True\n",
    "print(a and b)"
   ]
  },
  {
   "cell_type": "code",
   "execution_count": 17,
   "id": "c8684e6a-e534-4933-99e4-6af6bd89f3a2",
   "metadata": {},
   "outputs": [
    {
     "name": "stdout",
     "output_type": "stream",
     "text": [
      "True\n"
     ]
    }
   ],
   "source": [
    "a=True\n",
    "b=False\n",
    "print(a or b)"
   ]
  },
  {
   "cell_type": "code",
   "execution_count": null,
   "id": "ab3eb10a-b56c-4fae-b839-f5caecae2855",
   "metadata": {},
   "outputs": [],
   "source": []
  }
 ],
 "metadata": {
  "kernelspec": {
   "display_name": "Python 3 (ipykernel)",
   "language": "python",
   "name": "python3"
  },
  "language_info": {
   "codemirror_mode": {
    "name": "ipython",
    "version": 3
   },
   "file_extension": ".py",
   "mimetype": "text/x-python",
   "name": "python",
   "nbconvert_exporter": "python",
   "pygments_lexer": "ipython3",
   "version": "3.13.1"
  }
 },
 "nbformat": 4,
 "nbformat_minor": 5
}
